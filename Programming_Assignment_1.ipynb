{
  "nbformat": 4,
  "nbformat_minor": 0,
  "metadata": {
    "colab": {
      "provenance": [],
      "collapsed_sections": []
    },
    "kernelspec": {
      "name": "python3",
      "display_name": "Python 3"
    },
    "language_info": {
      "name": "python"
    }
  },
  "cells": [
    {
      "cell_type": "code",
      "source": [
        "###1. Write a Python program to print &quot;Hello Python&quot;?\n",
        "\n",
        "print(\"Hello World\")"
      ],
      "metadata": {
        "colab": {
          "base_uri": "https://localhost:8080/"
        },
        "id": "8Q7yRJrjdPQj",
        "outputId": "d6be7c2d-ae8a-424a-d2f1-fac5ae5f739c"
      },
      "execution_count": 1,
      "outputs": [
        {
          "output_type": "stream",
          "name": "stdout",
          "text": [
            "Hello World\n"
          ]
        }
      ]
    },
    {
      "cell_type": "code",
      "source": [
        "####Write a Python program to do arithmetical operations addition and division.?\n",
        "##Addition\n",
        "\n",
        "a = 2\n",
        "b = 3\n",
        "c = a + b\n",
        "print(c)"
      ],
      "metadata": {
        "colab": {
          "base_uri": "https://localhost:8080/"
        },
        "id": "yz4KHHeVeVMm",
        "outputId": "cdb560e9-42a2-4f5a-bf9a-8492667252ce"
      },
      "execution_count": 2,
      "outputs": [
        {
          "output_type": "stream",
          "name": "stdout",
          "text": [
            "5\n"
          ]
        }
      ]
    },
    {
      "cell_type": "code",
      "source": [
        "##Division\n",
        "\n",
        "a = 4\n",
        "b = 2\n",
        "c = a / b\n",
        "print(c)"
      ],
      "metadata": {
        "colab": {
          "base_uri": "https://localhost:8080/"
        },
        "id": "ojDfEHXqfIyo",
        "outputId": "3aba3623-6a44-477b-9417-263f5420166d"
      },
      "execution_count": 3,
      "outputs": [
        {
          "output_type": "stream",
          "name": "stdout",
          "text": [
            "2.0\n"
          ]
        }
      ]
    },
    {
      "cell_type": "code",
      "source": [
        "####3. Write a Python program to find the area of a triangle?\n",
        "\n",
        "\n",
        "a = float(input('Enter first side: '))  \n",
        "b = float(input('Enter second side: '))  \n",
        "c = float(input('Enter third side: '))  \n",
        "  \n",
        "\n",
        "s = (a + b + c) / 2     #perimeter\n",
        "   \n",
        "area = (s*(s-a)*(s-b)*(s-c)) ** 0.5            #area\n",
        "print('The area of the triangle is %0.2f' %area)   "
      ],
      "metadata": {
        "colab": {
          "base_uri": "https://localhost:8080/"
        },
        "id": "PThCDS-of65U",
        "outputId": "5d755921-f6c1-46d0-a5e2-23e1eb8253de"
      },
      "execution_count": 4,
      "outputs": [
        {
          "output_type": "stream",
          "name": "stdout",
          "text": [
            "Enter first side: 2\n",
            "Enter second side: 3\n",
            "Enter third side: 4\n",
            "The area of the triangle is 2.90\n"
          ]
        }
      ]
    },
    {
      "cell_type": "code",
      "source": [
        "####4. Write a Python program to swap two variables?\n",
        "\n",
        "x = 5\n",
        "y = 10\n",
        "\n",
        "x, y = y, x\n",
        "print(\"x =\", x)\n",
        "print(\"y =\", y)"
      ],
      "metadata": {
        "colab": {
          "base_uri": "https://localhost:8080/"
        },
        "id": "xkmtqAztgTU1",
        "outputId": "7840b0f6-fa71-4486-b460-1f5d0ed8beba"
      },
      "execution_count": 5,
      "outputs": [
        {
          "output_type": "stream",
          "name": "stdout",
          "text": [
            "x = 10\n",
            "y = 5\n"
          ]
        }
      ]
    },
    {
      "cell_type": "code",
      "source": [
        "####5. Write a Python program to generate a random number?\n",
        "\n",
        "import random\n",
        "x = random.randint(0,50)\n",
        "print(x)"
      ],
      "metadata": {
        "colab": {
          "base_uri": "https://localhost:8080/"
        },
        "id": "mFX8EWPfg6vc",
        "outputId": "7836516c-7e35-4cbf-9c8e-a235ce4ab6ef"
      },
      "execution_count": 6,
      "outputs": [
        {
          "output_type": "stream",
          "name": "stdout",
          "text": [
            "6\n"
          ]
        }
      ]
    }
  ]
}